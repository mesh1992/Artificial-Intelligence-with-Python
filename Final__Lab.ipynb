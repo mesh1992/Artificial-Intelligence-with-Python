{
  "nbformat": 4,
  "nbformat_minor": 0,
  "metadata": {
    "colab": {
      "name": "Final _Lab.ipynb",
      "provenance": [],
      "collapsed_sections": [],
      "authorship_tag": "ABX9TyPL6tya/kaxD0JS4XenHEaA",
      "include_colab_link": true
    },
    "kernelspec": {
      "name": "python3",
      "display_name": "Python 3"
    },
    "language_info": {
      "name": "python"
    }
  },
  "cells": [
    {
      "cell_type": "markdown",
      "metadata": {
        "id": "view-in-github",
        "colab_type": "text"
      },
      "source": [
        "<a href=\"https://colab.research.google.com/github/mesh1992/Artificial-Intelligence-with-Python/blob/master/Final__Lab.ipynb\" target=\"_parent\"><img src=\"https://colab.research.google.com/assets/colab-badge.svg\" alt=\"Open In Colab\"/></a>"
      ]
    },
    {
      "cell_type": "code",
      "source": [
        "#Q1 Normalize matrix x by scikit learn function(s)\n",
        "from sklearn import preprocessing\n",
        "import numpy as np\n",
        "x_array = np.array([1,2,3,4,5,6,7,8,9,10,11,12,13,14,15,16])\n",
        "normalized_arr = preprocessing.normalize([x_array])\n",
        "print(normalized_arr)"
      ],
      "metadata": {
        "colab": {
          "base_uri": "https://localhost:8080/"
        },
        "id": "tA6UPLeXgVCB",
        "outputId": "d135b08d-5889-4a7d-8cc2-34cbdd0c9c68"
      },
      "execution_count": 10,
      "outputs": [
        {
          "output_type": "stream",
          "name": "stdout",
          "text": [
            "[[0.02585438 0.05170877 0.07756315 0.10341754 0.12927192 0.15512631\n",
            "  0.18098069 0.20683508 0.23268946 0.25854384 0.28439823 0.31025261\n",
            "  0.336107   0.36196138 0.38781577 0.41367015]]\n"
          ]
        }
      ]
    },
    {
      "cell_type": "code",
      "source": [
        "#Q2 Binarize matrix x by scikit learn function(s) with threshold value = 5.5\n",
        "\n",
        "from sklearn.preprocessing import Binarizer\n",
        "X = [[1.1,2.2,3.3,4.4,5.5,6.6,7.7,8.8,9.9]]\n",
        "transformer = Binarizer().fit(X)  # fit does nothing.\n",
        "transformer\n",
        "Binarizer()\n",
        "transformer.transform(X)\n"
      ],
      "metadata": {
        "colab": {
          "base_uri": "https://localhost:8080/"
        },
        "id": "PoxhGsoUmAWA",
        "outputId": "9d1695d6-4020-4627-f64f-8252e7d912ad"
      },
      "execution_count": 12,
      "outputs": [
        {
          "output_type": "execute_result",
          "data": {
            "text/plain": [
              "array([[1., 1., 1., 1., 1., 1., 1., 1., 1.]])"
            ]
          },
          "metadata": {},
          "execution_count": 12
        }
      ]
    },
    {
      "cell_type": "code",
      "source": [
        ""
      ],
      "metadata": {
        "id": "JW2O5WlCoJNA"
      },
      "execution_count": null,
      "outputs": []
    }
  ]
}