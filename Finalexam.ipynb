{
  "nbformat": 4,
  "nbformat_minor": 0,
  "metadata": {
    "colab": {
      "name": "Finalexam.ipynb",
      "provenance": [],
      "authorship_tag": "ABX9TyOW4E6tPwY1h2SPV22v2x8D",
      "include_colab_link": true
    },
    "kernelspec": {
      "name": "python3",
      "display_name": "Python 3"
    },
    "language_info": {
      "name": "python"
    }
  },
  "cells": [
    {
      "cell_type": "markdown",
      "metadata": {
        "id": "view-in-github",
        "colab_type": "text"
      },
      "source": [
        "<a href=\"https://colab.research.google.com/github/mesh1992/Artificial-Intelligence-with-Python/blob/master/Finalexam.ipynb\" target=\"_parent\"><img src=\"https://colab.research.google.com/assets/colab-badge.svg\" alt=\"Open In Colab\"/></a>"
      ]
    },
    {
      "cell_type": "code",
      "execution_count": 2,
      "metadata": {
        "id": "oY7OCeWz7O9k"
      },
      "outputs": [],
      "source": [
        "import numpy as np\n",
        "def uniform_crossover(A,B,P):\n",
        "  for i in range (len(P)):\n",
        "    if [P] < 0.5:\n",
        "      temp = A[i]\n",
        "      A[i] = B[i]\n",
        "      B[i]= temp\n",
        "  return A, B\n",
        "\n",
        "  A = np.array([1,2,3,4,5,6,7,8,9,0])\n",
        "  B = np.array([0,9,8,7,6,5,4,3,2,1])\n",
        "  p = np.random.rand(10)\n",
        "  uniform_crossover(A,B,P)\n"
      ]
    },
    {
      "cell_type": "code",
      "source": [
        "# create the next generation\n",
        "children = list()\n",
        "for i in range(0, n_pop, 2):\n",
        "\t# get selected parents in pairs\n",
        "\tp1, p2 = selected[i], selected[i+1]\n",
        "\t# crossover and mutation\n",
        "\tfor c in crossover(p1, p2, r_cross):\n",
        "\t\t# mutation\n",
        "\t\tmutation(c, r_mut)\n",
        "\t\t# store for next generation\n",
        "\t\tchildren.append(c)"
      ],
      "metadata": {
        "id": "nSWb6RJP_y4K"
      },
      "execution_count": null,
      "outputs": []
    },
    {
      "cell_type": "code",
      "source": [
        "# library to generate a random number\n",
        "import random\n",
        "  \n",
        "# function for implementing the single-point crossover\n",
        "def crossover(l, q):\n",
        "  \n",
        "# converting the string to list for performing the crossover\n",
        "    l = list(l)\n",
        "    q = list(q)\n",
        "  \n",
        "# generating the random number to perform crossover\n",
        "    k = random.randint(0, 15)\n",
        "    print(\"Crossover point :\", k)\n",
        "  \n",
        "# interchanging the genes\n",
        "    for i in range(k, len(s)):\n",
        "        l[i], q[i] = q[i], l[i]\n",
        "    l = ''.join(l)\n",
        "    q = ''.join(q)\n",
        "    print(l)\n",
        "    print(q, \"\\n\\n\")\n",
        "    return l, q\n",
        "  \n",
        "  \n",
        "# patent chromosomes:\n",
        "  \n",
        "s = '1101111011'\n",
        "p = '1101111001'\n",
        "print(\"Parents\")\n",
        "print(\"P1 :\", s)\n",
        "print(\"P2 :\", p, \"\\n\")\n",
        "  \n",
        "# function calling and storing the off springs for \n",
        "# next generation crossover\n",
        "for i in range(5):\n",
        "    print(\"Generation \", i+1, \"Childrens :\")\n",
        "    s, p = crossover(s, p)"
      ],
      "metadata": {
        "colab": {
          "base_uri": "https://localhost:8080/"
        },
        "id": "uphR0HJ-AYqN",
        "outputId": "adcc7deb-ab4b-4160-cad2-baa2f1d6fc5c"
      },
      "execution_count": 4,
      "outputs": [
        {
          "output_type": "stream",
          "name": "stdout",
          "text": [
            "Parents\n",
            "P1 : 1101111011\n",
            "P2 : 1101111001 \n",
            "\n",
            "Generation  1 Childrens :\n",
            "Crossover point : 12\n",
            "1101111011\n",
            "1101111001 \n",
            "\n",
            "\n",
            "Generation  2 Childrens :\n",
            "Crossover point : 3\n",
            "1101111001\n",
            "1101111011 \n",
            "\n",
            "\n",
            "Generation  3 Childrens :\n",
            "Crossover point : 15\n",
            "1101111001\n",
            "1101111011 \n",
            "\n",
            "\n",
            "Generation  4 Childrens :\n",
            "Crossover point : 2\n",
            "1101111011\n",
            "1101111001 \n",
            "\n",
            "\n",
            "Generation  5 Childrens :\n",
            "Crossover point : 10\n",
            "1101111011\n",
            "1101111001 \n",
            "\n",
            "\n"
          ]
        }
      ]
    }
  ]
}