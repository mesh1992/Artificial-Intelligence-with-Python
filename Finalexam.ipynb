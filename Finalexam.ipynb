{
  "nbformat": 4,
  "nbformat_minor": 0,
  "metadata": {
    "colab": {
      "name": "Finalexam.ipynb",
      "provenance": [],
      "authorship_tag": "ABX9TyPn0+zuixglt+WHQSBSIfwm",
      "include_colab_link": true
    },
    "kernelspec": {
      "name": "python3",
      "display_name": "Python 3"
    },
    "language_info": {
      "name": "python"
    }
  },
  "cells": [
    {
      "cell_type": "markdown",
      "metadata": {
        "id": "view-in-github",
        "colab_type": "text"
      },
      "source": [
        "<a href=\"https://colab.research.google.com/github/mesh1992/Artificial-Intelligence-with-Python/blob/master/Finalexam.ipynb\" target=\"_parent\"><img src=\"https://colab.research.google.com/assets/colab-badge.svg\" alt=\"Open In Colab\"/></a>"
      ]
    },
    {
      "cell_type": "code",
      "source": [
        "import numpy as np\n",
        "\n",
        "\n",
        "London  = [0.10,0.75,0.60]\n",
        "Barcelona = [0.70,0.15,0.35]\n",
        "Newyork = [0.20,0.10,0.05]\n",
        "total = London + Barcelona + Newyork\n",
        "\n",
        "samples = 100\n",
        "\n",
        "# Define an empty vector.\n",
        "combs = []\n",
        "\n",
        "# Get the possible outcomes of number of elements per list.\n",
        "for i in range(0,2):\n",
        "    for j in range(0,2):\n",
        "        for k in range(0,2):\n",
        "            if(i + j + k == 3):\n",
        "                combs = combs + [[i,j,k]]\n",
        "            \n",
        "# Count of how many elements per group\n",
        "accum = [0 for x in combs]\n",
        "\n",
        "# Perform the experiment a number of times given the sample.\n",
        "for i in range(samples):\n",
        "\n",
        "    # Auxiliary variables.\n",
        "    totalEnt = [0,0,0]\n",
        "    \n",
        "\n",
        "    # Store the number of elements that belong to each list.\n",
        "    totalEnt[0] = [x in London for x in [0.10,0.75,0.60]].count(True)\n",
        "    totalEnt[1] = [x in Barcelona for x in [0.70,0.15,0.35]].count(True)\n",
        "    totalEnt[2] = [x in Newyork for x in [0.20,0.10,0.05]].count(True)\n",
        "\n",
        "# Print the probabilities.\n",
        "print(\"[elements in London, elements in Barcelona, elements in Newyork]: Probability\")\n",
        "for i, elem in enumerate(accum):\n",
        "    print(str(combs[i]) + \": \" + str(elem/samples))"
      ],
      "metadata": {
        "colab": {
          "base_uri": "https://localhost:8080/"
        },
        "id": "p9Y8TEA2LGCR",
        "outputId": "e849dfe2-f4b2-49ed-b834-3d6d82a39c4f"
      },
      "execution_count": 29,
      "outputs": [
        {
          "output_type": "stream",
          "name": "stdout",
          "text": [
            "[elements in London, elements in Barcelona, elements in Newyork]: Probability\n",
            "[1, 1, 1]: 0.0\n"
          ]
        }
      ]
    },
    {
      "cell_type": "code",
      "source": [
        ""
      ],
      "metadata": {
        "id": "RzHNWZ5ENPJV"
      },
      "execution_count": null,
      "outputs": []
    }
  ]
}