{
  "nbformat": 4,
  "nbformat_minor": 0,
  "metadata": {
    "colab": {
      "name": "Lab9.ipynb",
      "provenance": [],
      "mount_file_id": "13L0OwNvgCZaYbxZPPugInX4LIkH6w6cE",
      "authorship_tag": "ABX9TyN5fr68NRzR81+tzNhG4oix",
      "include_colab_link": true
    },
    "kernelspec": {
      "name": "python3",
      "display_name": "Python 3"
    },
    "language_info": {
      "name": "python"
    }
  },
  "cells": [
    {
      "cell_type": "markdown",
      "metadata": {
        "id": "view-in-github",
        "colab_type": "text"
      },
      "source": [
        "<a href=\"https://colab.research.google.com/github/mesh1992/Artificial-Intelligence-with-Python/blob/master/Lab9.ipynb\" target=\"_parent\"><img src=\"https://colab.research.google.com/assets/colab-badge.svg\" alt=\"Open In Colab\"/></a>"
      ]
    },
    {
      "cell_type": "code",
      "execution_count": null,
      "metadata": {
        "id": "iPaH8LKC65rP"
      },
      "outputs": [],
      "source": [
        "#Q1\tMerge Dataframes\n",
        "import pandas as pd\n",
        "df1 = pd.DataFrame({\n",
        "    \"city\": [\"new york\",\"chicago\",\"orlando\"],\n",
        "    \"temperature\": [21,14,35],\n",
        "})\n",
        "df1\n",
        "\n",
        "\n",
        "df2 = pd.DataFrame({ \"city\": [\"chicago\",\"new york\",\"orlando\"], \"humidity\": [65,68,75], }) \n",
        "df2\n",
        "\n",
        "df3 = pd.merge(df1, df2, on=\"city\")\n",
        "df3\n",
        "\n",
        "df1 = pd.DataFrame({\n",
        "    \"city\": [\"new york\",\"chicago\",\"orlando\", \"baltimore\"],\n",
        "    \"temperature\": [21,14,35, 38],\n",
        "})\n",
        "df1\n",
        "\n",
        "df2 = pd.DataFrame({\n",
        "    \"city\": [\"chicago\",\"new york\",\"san diego\"],\n",
        "    \"humidity\": [65,68,71],\n",
        "})\n",
        "df2\n",
        "\n",
        "df3=pd.merge(df1,df2,on=\"city\",how=\"inner\")\n",
        "df3\n",
        "\n",
        "df3=pd.merge(df1,df2,on=\"city\",how=\"outer\")\n",
        "df3\n",
        "\n",
        "df3=pd.merge(df1,df2,on=\"city\",how=\"left\")\n",
        "df3\n",
        "\n",
        "\n",
        "df3=pd.merge(df1,df2,on=\"city\",how=\"right\") \n",
        "df3\n",
        "\n",
        "df3=pd.merge(df1,df2,on=\"city\",how=\"outer\",indicator=True)\n",
        "df3\n",
        "\n",
        "df1 = pd.DataFrame({\n",
        "    \"city\": [\"new york\",\"chicago\",\"orlando\", \"baltimore\"],\n",
        "    \"temperature\": [21,14,35,38],\n",
        "    \"humidity\": [65,68,71, 75]\n",
        "})\n",
        "df1\n",
        "\n",
        "\n",
        "df2 = pd.DataFrame({ \"city\": [\"chicago\",\"new york\",\"san diego\"], \"temperature\": [21,14,35], \"humidity\": [65,68,71] }) \n",
        "df2\n",
        "\n",
        "df3= pd.merge(df1,df2,on=\"city\",how=\"outer\", suffixes=('_first','_second'))\n",
        "df3\n",
        "\n",
        "\n",
        "df1 = pd.DataFrame({ \"city\": [\"new york\",\"chicago\",\"orlando\"], \"temperature\": [21,14,35], }) \n",
        "df1.set_index('city',inplace=True) \n",
        "df1\n",
        "\n",
        "df2 = pd.DataFrame({\n",
        "    \"city\": [\"chicago\",\"new york\",\"orlando\"],\n",
        "    \"humidity\": [65,68,75],\n",
        "})\n",
        "df2.set_index('city',inplace=True)\n",
        "df2\n",
        "\n",
        "\n",
        "df1.join(df2,lsuffix='_l', rsuffix='_r')\n"
      ]
    },
    {
      "cell_type": "code",
      "source": [
        "#Q2.\tPivot-redefine col and row\n",
        "import pandas as pd\n",
        "import numpy as np\n",
        "%cd drive/My Drive/Colab Notebooks\n",
        "\n",
        "df = pd.read_csv(\"weather.csv\")\n",
        "df\n",
        "\n",
        "df.pivot(index='city',columns='date')\n",
        "\n",
        "df.pivot(index='city',columns='date',values=\"humidity\")\n",
        "\n",
        "df.pivot(index='date',columns='city')\n",
        "\n",
        "df.pivot(index='humidity',columns='city')\n",
        "\n",
        "\n",
        "df = pd.read_csv(\"weather2.csv\") \n",
        "df\n",
        "\n",
        "df.pivot_table(index=\"city\",columns=\"date\")\n",
        "\n",
        "df.pivot_table(index=\"city\",columns=\"date\", margins=True,aggfunc=np.sum)\n",
        "# margins = True: get ave. value shown in all\n",
        "\n",
        "df = pd.read_csv(\"weather3.csv\")\n",
        "df\n",
        "\n",
        "df['date'] = pd.to_datetime(df['date'])\n",
        "df.pivot_table(index=pd.Grouper(freq='M',key='date'),columns='city')\n"
      ],
      "metadata": {
        "id": "yQLUIyiB72Mz"
      },
      "execution_count": null,
      "outputs": []
    },
    {
      "cell_type": "code",
      "source": [
        "#Q3.\tReshape dataframe using melt\n",
        "import pandas as pd\n",
        "df = pd.read_csv(\"weather4.csv\")\n",
        "df\n",
        "\n",
        "melted = pd.melt(df, id_vars=[\"day\"], var_name='city', value_name='temperature')\n",
        "melted\n",
        "\n"
      ],
      "metadata": {
        "id": "R5R3N3PF8B_m"
      },
      "execution_count": null,
      "outputs": []
    },
    {
      "cell_type": "code",
      "source": [
        "#Q4.\tStack Unstack\n",
        "import pandas as pd\n",
        "df = pd.read_excel(\"stocks.xlsx\",header=[0,1])\n",
        "df\n",
        "\n",
        "df.stack()\n",
        "\n",
        "df.stack(level=0)\n",
        "\n",
        "df_stacked=df.stack()\n",
        "df_stacked\n",
        "\n",
        "df_stacked.unstack()\n",
        "\n",
        "df2 = pd.read_excel(\"stocks_3_levels.xlsx\",header=[0,1,2])\n",
        "df2\n",
        "\n",
        "df2.stack()\n",
        "\n",
        "df2.stack(level=0)\n",
        "\n",
        "df2.stack(level=1)\n"
      ],
      "metadata": {
        "id": "vDTSdaeZ8OGn"
      },
      "execution_count": null,
      "outputs": []
    },
    {
      "cell_type": "code",
      "source": [
        "#Q5.\tCrosstab\n",
        "\n",
        "import pandas as pd \n",
        "df = pd.read_excel(\"survey.xls\") \n",
        "df\n",
        "\n",
        "pd.crosstab(df.Nationality,df.Handedness)\n",
        "\n",
        "pd.crosstab(df.Sex,df.Handedness)\n",
        "\n",
        "pd.crosstab(df.Sex,df.Handedness, margins=True)\n",
        "\n",
        "pd.crosstab(df.Sex, [df.Handedness,df.Nationality], margins=True) \n",
        "# marigins: get summation\n",
        "\n",
        "pd.crosstab([df.Nationality, df.Sex], [df.Handedness], margins=True)\n",
        "\n",
        "pd.crosstab(df.Sex, df.Handedness, normalize='index')\n",
        "\n",
        "import numpy as np pd.crosstab(df.Sex, df.Handedness, values=df.Age, aggfunc=np.average)\n",
        "\n"
      ],
      "metadata": {
        "id": "MYqt-xzd8iTy"
      },
      "execution_count": null,
      "outputs": []
    }
  ]
}