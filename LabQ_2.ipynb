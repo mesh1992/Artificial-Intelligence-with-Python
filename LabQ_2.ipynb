{
  "nbformat": 4,
  "nbformat_minor": 0,
  "metadata": {
    "colab": {
      "name": "LabQ_2.ipynb",
      "provenance": [],
      "authorship_tag": "ABX9TyPGi0bYVAill4BENc+QpMGJ",
      "include_colab_link": true
    },
    "kernelspec": {
      "name": "python3",
      "display_name": "Python 3"
    },
    "language_info": {
      "name": "python"
    }
  },
  "cells": [
    {
      "cell_type": "markdown",
      "metadata": {
        "id": "view-in-github",
        "colab_type": "text"
      },
      "source": [
        "<a href=\"https://colab.research.google.com/github/mesh1992/Artificial-Intelligence-with-Python/blob/master/LabQ_2.ipynb\" target=\"_parent\"><img src=\"https://colab.research.google.com/assets/colab-badge.svg\" alt=\"Open In Colab\"/></a>"
      ]
    },
    {
      "cell_type": "code",
      "execution_count": 1,
      "metadata": {
        "colab": {
          "base_uri": "https://localhost:8080/",
          "height": 849
        },
        "id": "CslgRsVKoNAP",
        "outputId": "43f5cf4f-b24b-4114-9543-3bb985ed3248"
      },
      "outputs": [
        {
          "output_type": "stream",
          "name": "stdout",
          "text": [
            "[ 8 24 67 87 79 48 10 94 52 98 53 66 98 14 34 24 15 60 58 16  9 93 86  2\n",
            " 27  4 31  1 13 83  4 91 59 67  7 49 47 65 61 14 55 71 80  2 94 19 98 63\n",
            " 53 27 56 30 48 47 39 38 44 18 64 56 34 53 74 17 72 13 30 17 53 68 50 91\n",
            " 91 83 53 78  0 13 57 76  3 70  3 84 79 10 87 60  3 48 52 43 36  5 71 38\n",
            " 86 94 98 42 84 95 76 33 58 42 22  0 55 98 19 53 68 62 50 68 35 23  9 48\n",
            " 21 25 54  6 37 58 39 94 51 30 66 24 55 17 45 89 45 35 16 12 86 82 67 92\n",
            " 95 20 10  8 89 72 30 12 18 93 92 44 57  0 73 54 92 66 16  5 51 90 34 67\n",
            " 94 78 54 77 84  1 14 33 20 40 24 93 58 28 82 82  7 94  2 63  2 87 17 90\n",
            " 93 96 74 53 30 67 28 37 82 17 10 13 81 25 66 15 11 38 22 55 57 87 51 48\n",
            " 53 17 65 42 93 44 16 51 54 55 83 42 61 37 80 99  2 62 99 81 16 70 53 98\n",
            " 96 47 48  9 49 53 34  3 11 49 29 36 93 67 26 52 36 73 31 85 92 68 83 71\n",
            " 61 93 36 42 13 48 82 32 38 40 53 93 14 38 86 37  0 59 41 44 19 76 66 13\n",
            " 87 65 68 54  0 87 83 10 65  2 87 76 39 36 35 99 26 19  4 39 87 74 79 92\n",
            " 52 44 13 33 15 17 88 23 59  8 40 77 47 45 25 31 10 38 80 87 84 60 17 15\n",
            " 85 19 20  3 74 59 11 48  6 90 17 76 58 72  0 51 30 82 27 70 53 39 51 96\n",
            " 45 39 88 50 46 60 80 69 80 34 81 86 16 47  3 76 89  5 66 64 45 59  9 13\n",
            " 67 79 82 84 79 13 75 49 88 81 84 39 38 37 88 19 27 21  0 73  1 36 51 33\n",
            " 96 86 26 86 92  6 94  3 28 35 31 19 52 41 78 50 46 71 49 50 77 58 76 99\n",
            "  2 61 60 18 35  2 55 96 63 70 25 95 56 58 82 76 60 17 33 66 94 18 66 36\n",
            "  7 62  1 85 77 57 30 92 16 81 96 20 35 82 23 42 99  7 77 47 18 43 87 92\n",
            " 88 85  1 94 92 91 41 22 77 48 89 59  9 69 50 62 42 71 49 14]\n",
            "mean of the original sample 50.558\n",
            "list of the mean of the sample is  [46.7, 48.8, 54.7, 52.5, 53.0, 53.6, 61.2, 28.0, 57.6, 44.3, 36.0, 44.3, 69.3, 53.6, 53.5, 54.0, 40.9, 50.5, 56.4, 56.0, 50.1, 50.3, 39.9, 40.7, 66.9, 36.9, 67.9, 39.1, 40.5, 28.7, 44.9, 53.6, 50.0, 49.8, 59.6, 41.7, 55.0, 48.4, 51.7, 65.2, 42.4, 47.1, 46.5, 65.7, 57.8, 58.2, 46.6, 48.7, 58.5, 49.4, 51.2, 62.0, 48.0, 61.5, 40.6, 58.8, 55.7, 49.1, 58.9, 63.7, 56.4, 45.2, 62.4, 63.3, 57.8, 59.2, 43.8, 53.3, 53.2, 51.2, 46.1, 61.2, 41.6, 56.7, 54.5, 49.7, 44.9, 39.4, 53.4, 44.2, 61.3, 47.8, 57.4, 51.2, 49.3, 50.2, 48.1, 51.6, 50.3, 50.2, 41.0, 46.7, 48.5, 48.0, 60.7, 44.9, 47.6, 65.7, 41.4, 71.4]\n",
            "mean of the sample is given as 51.36999999999999\n",
            "dataset2 is given as  [array([41,  3, 27, 30, 59, 48, 36, 94, 67, 62]), array([27, 51, 73, 20, 79, 13, 71, 10, 65, 79]), array([11, 77, 87,  2, 41, 66, 99, 28, 59, 77]), array([51, 77, 19, 52, 87, 34, 79, 40, 43, 43]), array([37, 60, 39, 63, 82, 48, 86, 51, 63,  1]), array([85,  0, 82, 49, 36, 53, 62, 48, 45, 76]), array([19, 60, 80, 53, 18, 94, 79, 42, 74, 93]), array([11,  3, 27, 58,  3,  0, 12, 87, 15, 64]), array([81, 47, 66, 66, 18, 17, 39, 92, 82, 68]), array([65, 53, 96,  7,  0, 10, 20, 84, 67, 41]), array([ 2, 47, 10, 68, 34,  9, 53, 53, 13, 71]), array([73, 74, 62, 24, 16, 13, 59, 63, 41, 18]), array([31, 80, 70, 95, 74, 76, 99, 87, 62, 19]), array([30, 56, 77, 45,  5, 89, 28, 47, 60, 99]), array([16, 92, 86, 46, 68,  5,  6, 88, 32, 96]), array([38, 59, 12, 77, 69, 15, 76, 81, 17, 96]), array([10, 95, 47, 94, 92, 34,  1,  3,  2, 31]), array([12, 36, 64,  1, 36, 86, 84, 82, 55, 49]), array([53, 18,  3, 78, 83, 67, 78, 25, 92, 67]), array([98, 57, 30, 86, 38, 66, 69,  9, 13, 94]), array([76, 64, 94, 34, 51, 17, 74, 14, 60, 17]), array([17, 88, 42, 38, 64, 51, 89, 65, 46,  3]), array([44, 12, 31,  0, 63, 82, 51,  8, 47, 61]), array([19, 30, 51, 35,  1, 48, 86, 58, 37, 42]), array([30, 62, 99, 48, 84, 87, 48, 42, 91, 78]), array([19, 27, 41, 39, 11, 64, 49, 64,  1, 54]), array([90, 81, 23, 87, 72, 66, 51, 58, 56, 95]), array([36, 26,  6, 17, 81, 48, 80, 30, 56, 11]), array([45, 30,  1, 47, 47, 66, 38, 10, 68, 53]), array([16, 18, 86,  0, 30, 17, 31, 24, 42, 23]), array([56, 14, 53, 63, 17, 65, 51, 86, 26, 18]), array([52, 99, 28, 61, 19, 72, 62, 13, 79, 51]), array([76, 59,  5, 14, 19, 39, 96, 93, 58, 41]), array([46, 59, 34, 91, 50, 13, 47, 98, 11, 49]), array([63, 39, 79, 89, 66,  6, 67, 46, 48, 93]), array([92, 11, 72, 17, 21, 36, 19, 81, 20, 48]), array([52, 79, 13, 19, 86, 17, 11, 96, 79, 98]), array([14,  2, 67, 42, 81, 80, 62, 54, 18, 64]), array([79, 39, 94, 11,  1, 53, 59, 87, 59, 35]), array([55, 85, 55, 79, 41, 89, 34, 95, 42, 77]), array([47, 12, 84, 96, 53, 14, 13,  0, 53, 52]), array([40, 46, 30, 17, 41, 66, 69, 11, 91, 60]), array([56, 80, 52, 17, 15,  9, 13, 98, 32, 93]), array([93, 71, 41, 61, 48, 76, 51, 82, 58, 76]), array([77, 81, 48, 17, 53, 13, 94, 78, 84, 33]), array([ 7, 83,  8, 76, 59, 87, 80, 71, 54, 57]), array([20, 52, 46, 19, 80,  7, 58, 37, 59, 88]), array([53, 61, 33, 92, 89, 16, 38, 18, 27, 60]), array([99, 84, 24, 17, 10, 66, 39, 95, 61, 90]), array([79, 39, 78, 10, 60, 94, 34, 28, 19, 53]), array([ 1, 13, 60, 93, 68, 49, 94, 37, 13, 84]), array([92, 70, 14, 47, 87, 31, 43, 59, 94, 83]), array([ 8,  3, 42,  6, 86, 28, 49, 83, 93, 82]), array([64, 77, 18, 87,  2, 88, 86, 88, 91, 14]), array([15, 42,  3, 62, 53,  7, 77, 16, 48, 83]), array([54, 38, 72, 47, 68, 93, 20, 67, 89, 40]), array([79, 50, 88,  0, 99, 81, 43, 33, 61, 23]), array([53, 48, 38, 33, 51, 86, 32, 87, 44, 19]), array([96, 65, 67, 25, 84, 71, 52, 67, 48, 14]), array([78, 81, 76, 92, 71, 59, 20, 67, 49, 44]), array([80, 26, 96,  7, 14, 93, 57, 16, 82, 93]), array([37, 93, 67,  9, 35, 84, 70, 34,  2, 21]), array([ 8, 49, 65, 21, 83, 93, 98, 66, 54, 87]), array([74, 98, 53, 30, 84, 83, 84, 53, 59, 15]), array([34,  1, 13, 65, 88, 46, 93, 58, 93, 87]), array([54, 93, 96,  0, 10, 92, 67, 65, 23, 92]), array([10, 19,  0, 78, 81, 60,  2, 43, 78, 67]), array([77, 24, 42, 35, 40, 35, 68, 70, 58, 84]), array([31, 25, 50, 89, 88, 51, 62, 46, 72, 18]), array([ 2, 48, 85, 95, 58, 74, 13, 72, 48, 17]), array([59, 39, 45, 53, 70, 81, 26,  2, 48, 38]), array([64, 42, 72, 45, 53, 82, 53, 90, 34, 77]), array([40,  5, 79, 84, 51, 13, 95, 30,  6, 13]), array([35, 25, 87, 66, 94, 58, 52, 60, 13, 77]), array([41, 73, 59, 62, 82,  3, 79, 35, 18, 93]), array([78, 11, 44, 37, 56, 61, 52, 13, 98, 47]), array([36, 40, 24,  0, 94, 50, 60, 63, 48, 34]), array([76, 10, 32, 16,  1, 38, 82, 20, 74, 45]), array([13, 42, 92, 39, 78, 66, 51, 76, 30, 47]), array([ 8,  7, 54, 42, 94, 36, 34, 64, 84, 19]), array([66, 66, 70, 96, 92, 39, 14, 73, 87, 10]), array([42, 10, 65, 57, 35, 57, 88, 21, 27, 76]), array([58, 30, 53, 48, 53, 71, 86, 59, 91, 25]), array([30, 66, 74, 70, 37, 53,  8, 94, 42, 38]), array([58, 65, 24, 62, 67, 25, 82, 52, 23, 35]), array([81, 20, 22, 72, 53, 92, 66, 24, 54, 18]), array([76, 19, 36, 99, 21, 56, 10, 20, 74, 70]), array([94, 91, 39, 66, 46, 47, 53,  0, 77,  3]), array([62,  4, 30, 17, 91, 87, 60, 91, 50, 11]), array([20, 87, 20, 41, 38, 54, 75, 93, 58, 16]), array([98, 88, 22, 36, 44, 19, 13, 30, 36, 24]), array([77, 44, 45, 45, 38, 54,  4, 20, 88, 52]), array([36, 70,  4,  4, 90, 59, 15, 86, 55, 66]), array([11, 54, 19, 19, 82, 73, 66, 12, 70, 74]), array([84, 37, 45, 99, 68, 31, 92, 89, 48, 14]), array([48,  7, 23, 26, 66, 49, 92, 17, 70, 51]), array([82, 37, 23, 17, 57, 30, 67, 81, 16, 66]), array([44, 87, 89, 82, 79, 93, 52, 27, 84, 20]), array([98, 35,  7, 79, 24, 11,  3, 76, 45, 36]), array([87, 23, 58, 66, 82, 87, 31, 90, 92, 98])]\n",
            "mean of 1st random sample is 71.4\n",
            "normalised plot can be seen as\n"
          ]
        },
        {
          "output_type": "execute_result",
          "data": {
            "text/plain": [
              "(array([ 2.,  1.,  9., 12., 18., 24., 13., 12.,  6.,  3.]),\n",
              " array([28.  , 32.34, 36.68, 41.02, 45.36, 49.7 , 54.04, 58.38, 62.72,\n",
              "        67.06, 71.4 ]),\n",
              " <a list of 10 Patch objects>)"
            ]
          },
          "metadata": {},
          "execution_count": 1
        },
        {
          "output_type": "display_data",
          "data": {
            "text/plain": [
              "<Figure size 432x288 with 1 Axes>"
            ],
            "image/png": "[encoded data removed]"
          },
          "metadata": {
            "needs_background": "light"
          }
        }
      ],
      "source": [
        "import numpy as np\n",
        "\n",
        "np.random.seed(100)\n",
        "\n",
        "dataset=np.random.randint(0,100,size=500)\n",
        "\n",
        "print(dataset)\n",
        "\n",
        "print(\"mean of the original sample\",np.mean(dataset))\n",
        "\n",
        "file=np.random.choice(dataset,size=10)\n",
        "mean_Bootstrappingexample=[]\n",
        "dataset2=[]\n",
        "\n",
        "mean_Bootstrappingexample\n",
        "for _ in range(100):\n",
        "  Bootstrappingexample=np.random.choice(dataset,size=10)\n",
        "  dataset2.append(Bootstrappingexample)\n",
        "  mean_Bootstrappingexample.append(Bootstrappingexample.mean())\n",
        "\n",
        "print(\"list of the mean of the sample is \", mean_Bootstrappingexample)\n",
        "\n",
        "print(\"mean of the sample is given as\",np.mean(mean_Bootstrappingexample))\n",
        "\n",
        "print(\"dataset2 is given as \",dataset2)\n",
        "\n",
        "print(\"mean of 1st random sample is\",np.mean(Bootstrappingexample))\n",
        "\n",
        "import matplotlib.pyplot as plt\n",
        "\n",
        "print(\"normalised plot can be seen as\")\n",
        "\n",
        "plt.hist(mean_Bootstrappingexample)"
      ]
    }
  ]
}