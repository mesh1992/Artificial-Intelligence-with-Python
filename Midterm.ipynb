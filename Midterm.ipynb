{
  "nbformat": 4,
  "nbformat_minor": 0,
  "metadata": {
    "colab": {
      "name": "Midterm.ipynb",
      "provenance": [],
      "collapsed_sections": [],
      "authorship_tag": "ABX9TyO0Rucyy6uJHENrScl5AQZu",
      "include_colab_link": true
    },
    "kernelspec": {
      "name": "python3",
      "display_name": "Python 3"
    },
    "language_info": {
      "name": "python"
    }
  },
  "cells": [
    {
      "cell_type": "markdown",
      "metadata": {
        "id": "view-in-github",
        "colab_type": "text"
      },
      "source": [
        "<a href=\"https://colab.research.google.com/github/mesh1992/Artificial-Intelligence-with-Python/blob/master/Midterm.ipynb\" target=\"_parent\"><img src=\"https://colab.research.google.com/assets/colab-badge.svg\" alt=\"Open In Colab\"/></a>"
      ]
    },
    {
      "cell_type": "code",
      "execution_count": 3,
      "metadata": {
        "colab": {
          "base_uri": "https://localhost:8080/"
        },
        "id": "ikz30C4sH_8M",
        "outputId": "36f0a50f-4262-48d8-84ca-c0fa83f3a80f"
      },
      "outputs": [
        {
          "output_type": "stream",
          "name": "stdout",
          "text": [
            "3D Matrix:  [[34, 85, 27], [75, 5, 0], [84, 20, 36]]\n"
          ]
        }
      ],
      "source": [
        "#Q1\n",
        "import random\n",
        "M = [[random.randint(0,100) for row in range(3)] for col in range(3)]\n",
        "print('3D Matrix: ', M)"
      ]
    },
    {
      "cell_type": "code",
      "source": [
        "#Q2\n",
        "a = [11, 12, 13, 14]\n",
        "b = list(map(lambda x: -1 if x%2==0 else x, a))\n",
        "print('a: ', a)\n",
        "print('b: ', b)"
      ],
      "metadata": {
        "colab": {
          "base_uri": "https://localhost:8080/"
        },
        "id": "_DwN1RzeJXWV",
        "outputId": "d45b3adb-663b-4084-d127-139e84ae34bf"
      },
      "execution_count": 4,
      "outputs": [
        {
          "output_type": "stream",
          "name": "stdout",
          "text": [
            "a:  [11, 12, 13, 14]\n",
            "b:  [11, -1, 13, -1]\n"
          ]
        }
      ]
    },
    {
      "cell_type": "code",
      "source": [
        "#Q3\n",
        "a = [11, 12, 13, 14]\n",
        "b = [11, 13, 15, 16]\n",
        "c = list(filter(lambda x: x in b, a))\n",
        "print('a: ',a)\n",
        "print('b: ',b)\n",
        "print('c: ',c)"
      ],
      "metadata": {
        "colab": {
          "base_uri": "https://localhost:8080/"
        },
        "id": "uaXqycgAJZ3y",
        "outputId": "16da80c0-1973-4fdd-db02-02d82d2f74d5"
      },
      "execution_count": 5,
      "outputs": [
        {
          "output_type": "stream",
          "name": "stdout",
          "text": [
            "a:  [11, 12, 13, 14]\n",
            "b:  [11, 13, 15, 16]\n",
            "c:  [11, 13]\n"
          ]
        }
      ]
    },
    {
      "cell_type": "code",
      "source": [
        "#Q4\n",
        "import random\n",
        "M = [[random.randint(0,100) for row in range(3)] for col in range(3)]\n",
        "print('Before row replacement: ',M)\n",
        "row = 1\n",
        "row_replace = 2\n",
        "M[row], M[row_replace] = M[row_replace], M[row]\n",
        "print('After row replacement: ',M)\n",
        "\n"
      ],
      "metadata": {
        "colab": {
          "base_uri": "https://localhost:8080/"
        },
        "id": "KX0Vv44pJiFa",
        "outputId": "3aa3dad8-d9b6-416c-9dd6-6d9a818caedb"
      },
      "execution_count": 6,
      "outputs": [
        {
          "output_type": "stream",
          "name": "stdout",
          "text": [
            "Before row replacement:  [[46, 85, 32], [44, 36, 69], [97, 76, 55]]\n",
            "After row replacement:  [[46, 85, 32], [97, 76, 55], [44, 36, 69]]\n"
          ]
        }
      ]
    },
    {
      "cell_type": "code",
      "source": [
        "#Q5\n",
        "import random\n",
        "from statistics import stdev, mean\n",
        "a = [random.randint(1,100) for _ in range(random.randint(0,20))]\n",
        "print('a: ',a)\n",
        "print('mean: ', mean(a))\n",
        "print('standard deviation:', stdev(a))"
      ],
      "metadata": {
        "colab": {
          "base_uri": "https://localhost:8080/"
        },
        "id": "55ejnU_4Jx5m",
        "outputId": "8a9c9771-c188-43c7-c286-0a7be713d800"
      },
      "execution_count": 7,
      "outputs": [
        {
          "output_type": "stream",
          "name": "stdout",
          "text": [
            "a:  [37, 96, 87, 17, 37, 41, 21, 53, 45, 52]\n",
            "mean:  48.6\n",
            "standard deviation: 25.5003267952916\n"
          ]
        }
      ]
    },
    {
      "cell_type": "code",
      "source": [
        "#Q6\n",
        "a = [1, 2, 3, 'P', 4, 5, 6, 'NP']\n",
        "b = list(map(lambda x:0 if x=='P' else(1 if x=='NP' else x), a))\n",
        "print('a: ', a)\n",
        "print('b: ', b)"
      ],
      "metadata": {
        "colab": {
          "base_uri": "https://localhost:8080/"
        },
        "id": "rdhVzrMDJ3c5",
        "outputId": "70fa01ed-363e-4463-89e0-1d6ce7c4f8ae"
      },
      "execution_count": 8,
      "outputs": [
        {
          "output_type": "stream",
          "name": "stdout",
          "text": [
            "a:  [1, 2, 3, 'P', 4, 5, 6, 'NP']\n",
            "b:  [1, 2, 3, 0, 4, 5, 6, 1]\n"
          ]
        }
      ]
    },
    {
      "cell_type": "code",
      "source": [
        "#Q7\n",
        "import matplotlib.pyplot as plt\n",
        "\n",
        "# line 1 points\n",
        "x1 = [10,20]\n",
        "y1 = [20,40]\n",
        "# plotting the line 1 points \n",
        "plt.plot(x1, y1, label = \"line 1\")\n",
        "# line 2 points\n",
        "x2 = [10,20]\n",
        "y2 = [40,10]\n",
        "# plotting the line 2 points \n",
        "plt.plot(x2, y2, label = \"line 2\")\n",
        "\n",
        "plt.xlabel('x - axis')\n",
        "plt.ylabel('y - axis')\n",
        "\n",
        "# title\n",
        "plt.title('Plot two lines on one figure with the legend for each ')\n",
        "# show a legend \n",
        "plt.legend()\n",
        "# Display a figure.\n",
        "plt.show()"
      ],
      "metadata": {
        "colab": {
          "base_uri": "https://localhost:8080/",
          "height": 295
        },
        "id": "2AU-oBdcKnjn",
        "outputId": "f72a6541-e20c-47d6-d8ee-6d039881e6b5"
      },
      "execution_count": 9,
      "outputs": [
        {
          "output_type": "display_data",
          "data": {
            "text/plain": [
              "<Figure size 432x288 with 1 Axes>"
            ],
            "image/png": "[encoded data removed]"
          },
          "metadata": {
            "needs_background": "light"
          }
        }
      ]
    },
    {
      "cell_type": "code",
      "source": [
        "#Q8\n",
        "\n",
        "import matplotlib.pyplot as plt\n",
        "import random\n",
        "\n",
        "x1=[]\n",
        "x2=[]\n",
        "y=[]\n",
        "\n",
        "#generating random numbers\n",
        "for i in range(0,10):\n",
        "\tx1.append(random.randint(1,30))\n",
        "\tx2.append(random.randint(1,30))\n",
        "\ty.append(random.randint(0,1)) #  will be either0 or 1\n",
        "plt.scatter(x1,x2,c= y) #for giving different colors use \n",
        "                        #parameter c of scatter function\n",
        "plt.xlabel('x - axis')\n",
        "plt.ylabel('y - axis')\n",
        "plt.title('scatter plot')\n",
        "\n",
        "plt.show()\n"
      ],
      "metadata": {
        "colab": {
          "base_uri": "https://localhost:8080/",
          "height": 295
        },
        "id": "qURbV6aqKwY4",
        "outputId": "227723c4-f2a0-423f-ed8d-696718cc9b22"
      },
      "execution_count": 10,
      "outputs": [
        {
          "output_type": "display_data",
          "data": {
            "text/plain": [
              "<Figure size 432x288 with 1 Axes>"
            ],
            "image/png": "[encoded data removed]"
          },
          "metadata": {
            "needs_background": "light"
          }
        }
      ]
    },
    {
      "cell_type": "code",
      "source": [
        "#Q9\n",
        "import numpy as np\n",
        "import pandas as pd\n",
        "A = np.array([0,1,2,3,4,5,6,7,8])\n",
        "B = np.reshape(A, (-1, 3))\n",
        "numpy_data = np.array(B)\n",
        "df = pd.DataFrame(data=numpy_data, index=[\"row1\", \"row2\",\"row3\"], columns=[\"column1\", \"column2\",\"column3\"])\n",
        "print(df)\n"
      ],
      "metadata": {
        "colab": {
          "base_uri": "https://localhost:8080/"
        },
        "id": "h5Ad7NcjLc2K",
        "outputId": "9240229c-e68d-469c-a3db-effed21c4919"
      },
      "execution_count": 11,
      "outputs": [
        {
          "output_type": "stream",
          "name": "stdout",
          "text": [
            "      column1  column2  column3\n",
            "row1        0        1        2\n",
            "row2        3        4        5\n",
            "row3        6        7        8\n"
          ]
        }
      ]
    },
    {
      "cell_type": "code",
      "source": [
        "#Q10\n",
        "from scipy.spatial import distance\n",
        "p1 = [1, 2, 3]\n",
        "p2 = [4, 5, 6]\n",
        "d = distance.euclidean(p1, p2)\n",
        "print(\"Euclidean distance: \",d)"
      ],
      "metadata": {
        "colab": {
          "base_uri": "https://localhost:8080/"
        },
        "id": "Iu8LMRIKLg8p",
        "outputId": "07850fd2-196c-4908-90c0-3d7840927026"
      },
      "execution_count": 12,
      "outputs": [
        {
          "output_type": "stream",
          "name": "stdout",
          "text": [
            "Euclidean distance:  5.196152422706632\n"
          ]
        }
      ]
    },
    {
      "cell_type": "code",
      "source": [
        "#Q11\n",
        "import numpy as np\n",
        "import pandas as pd\n",
        "\n",
        "data = np.loadtxt(filename)\n",
        "data = pd.DataFrame(data[::2])\n",
        "#here filename will be replaced by the name of the file. [::2], means take every second element"
      ],
      "metadata": {
        "id": "ixjvDGj9WkAa"
      },
      "execution_count": null,
      "outputs": []
    },
    {
      "cell_type": "code",
      "source": [
        "#Q12\n",
        "#A 5x5 data frame is filled with random numbers and the diagonal elements are set to 0\n",
        "\n",
        "import numpy as np\n",
        "import pandas as pd\n",
        "df = pd.DataFrame(np.random.rand(5,5))\n",
        "df.values[[np.arange(df.shape[0])]*2] = 0\n",
        "print(df)"
      ],
      "metadata": {
        "colab": {
          "base_uri": "https://localhost:8080/"
        },
        "id": "SaYSdxtwL1TZ",
        "outputId": "e11ee404-8927-4167-c095-06e921ccad10"
      },
      "execution_count": 14,
      "outputs": [
        {
          "output_type": "stream",
          "name": "stdout",
          "text": [
            "          0         1         2         3         4\n",
            "0  0.000000  0.228450  0.214142  0.952945  0.343034\n",
            "1  0.572656  0.000000  0.675081  0.080910  0.908253\n",
            "2  0.083296  0.251633  0.000000  0.478329  0.421692\n",
            "3  0.435744  0.604870  0.982473  0.000000  0.431590\n",
            "4  0.476811  0.403922  0.571238  0.202254  0.000000\n"
          ]
        },
        {
          "output_type": "stream",
          "name": "stderr",
          "text": [
            "/usr/local/lib/python3.7/dist-packages/ipykernel_launcher.py:7: FutureWarning: Using a non-tuple sequence for multidimensional indexing is deprecated; use `arr[tuple(seq)]` instead of `arr[seq]`. In the future this will be interpreted as an array index, `arr[np.array(seq)]`, which will result either in an error or a different result.\n",
            "  import sys\n"
          ]
        }
      ]
    },
    {
      "cell_type": "code",
      "source": [
        "#Q13\n",
        "\n",
        "#pandas split dataframe to train and test\n",
        "train=df.sample(frac=0.8,random_state=200) #random state is a seed value\n",
        "test=df.drop(train.index)"
      ],
      "metadata": {
        "id": "ZrqkeTLOTT1I"
      },
      "execution_count": 24,
      "outputs": []
    }
  ]
}