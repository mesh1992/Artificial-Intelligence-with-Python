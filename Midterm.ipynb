{
  "nbformat": 4,
  "nbformat_minor": 0,
  "metadata": {
    "colab": {
      "name": "Midterm.ipynb",
      "provenance": [],
      "collapsed_sections": [],
      "authorship_tag": "ABX9TyOeeqm1yWHWwrwlAunVMqn+",
      "include_colab_link": true
    },
    "kernelspec": {
      "name": "python3",
      "display_name": "Python 3"
    },
    "language_info": {
      "name": "python"
    }
  },
  "cells": [
    {
      "cell_type": "markdown",
      "metadata": {
        "id": "view-in-github",
        "colab_type": "text"
      },
      "source": [
        "<a href=\"https://colab.research.google.com/github/mesh1992/Artificial-Intelligence-with-Python/blob/master/Midterm.ipynb\" target=\"_parent\"><img src=\"https://colab.research.google.com/assets/colab-badge.svg\" alt=\"Open In Colab\"/></a>"
      ]
    },
    {
      "cell_type": "code",
      "execution_count": 1,
      "metadata": {
        "id": "EYiQCH6qSorU"
      },
      "outputs": [],
      "source": [
        "#Q2\n",
        "import numpy as np # linear algebra\n",
        "import pandas as pd # data processing, CSV file I/O (e.g. pd.read_csv)\n",
        "\n",
        "# Input data files are available in the read-only \"../input/\" directory\n",
        "# For example, running this (by clicking run or pressing Shift+Enter) will list all files under the input directory\n",
        "\n",
        "import os\n",
        "for dirname, _, filenames in os.walk('/kaggle/input'):\n",
        "    for filename in filenames:\n",
        "        print(os.path.join(dirname, filename))\n",
        "\n",
        "import seaborn as sns\n",
        "import matplotlib.pyplot as plt\n",
        "\n",
        "import seaborn as sns\n",
        "import matplotlib.pyplot as plt\n",
        "\n",
        "df = pd.read_csv('/kaggle/input/wineuci/Wine.csv',header=None,usecols=[0,1,2])\n",
        "df.columns=['Class label', 'Alcohol', 'Malic acid']\n",
        "\n",
        "df\n",
        "\n",
        "sns.kdeplot(df['Alcohol'])\n",
        "\n",
        "sns.kdeplot(df['Malic acid'])\n",
        "\n",
        "color_dict = {1:'red', 2: 'blue', 3: 'yellow'}\n",
        "\n",
        "sns.scatterplot(df['Alchohol'],df['Malic acid'],hue = df['Class label'], palette = color_dict)"
      ]
    },
    {
      "cell_type": "code",
      "source": [
        ""
      ],
      "metadata": {
        "id": "wHFVCmZA3xuu"
      },
      "execution_count": null,
      "outputs": []
    },
    {
      "cell_type": "code",
      "source": [
        "\n",
        "#Q3\n",
        "import numpy as np\n",
        "import matplotlib.pyplot as plt\n",
        "  \n",
        "def estimate_coef(x, y):\n",
        "\n",
        "    n = np.size(x)\n",
        "  \n",
        "    m_x = np.mean(x)\n",
        "    m_y = np.mean(y)\n",
        "  \n",
        "\n",
        "    SS_xy = np.sum(y*x) - n*m_y*m_x\n",
        "    SS_xx = np.sum(x*x) - n*m_x*m_x\n",
        "  \n",
        "    # calculating regression coefficients\n",
        "    b_1 = SS_xy / SS_xx\n",
        "    b_0 = m_y - b_1*m_x\n",
        "  \n",
        "    return (b_0, b_1)\n",
        "  \n",
        "def plot_regression_line(x, y, b):\n",
        "    # plotting the actual points as scatter plot\n",
        "    plt.scatter(x, y, color = \"m\",\n",
        "               marker = \"o\", s = 30)\n",
        "  \n",
        "    # predicted response vector\n",
        "    y_pred = b[0] + b[1]*x\n",
        "  \n",
        "    # plotting the regression line\n",
        "    plt.plot(x, y_pred, color = \"g\")\n",
        "  \n",
        "    # putting labels\n",
        "    plt.xlabel('x')\n",
        "    plt.ylabel('y')\n",
        "  \n",
        "    # function to show plot\n",
        "    plt.show()\n",
        "  \n",
        "def main():\n",
        "    # observations / data\n",
        "    x = np.array([0, 1, 2, 3, 4, 5])\n",
        "    y = np.array([7,9,12,15,16])\n",
        "  \n",
        "    # estimating coefficients\n",
        "    b = estimate_coef(x, y)\n",
        "    print(\"Estimated coefficients:\\nb_0 = {}  \\\n",
        "          \\nb_1 = {}\".format(b[0], b[1]))\n",
        "  \n",
        "    # plotting regression line\n",
        "    plot_regression_line(x, y, b)\n",
        "  \n",
        "if __name__ == \"__main__\":\n",
        "    main()"
      ],
      "metadata": {
        "id": "z8K314WytlVH"
      },
      "execution_count": null,
      "outputs": []
    },
    {
      "cell_type": "code",
      "source": [
        "#Q7\n",
        "# Importing the libraries\n",
        "import numpy as np \n",
        "import matplotlib.pyplot as plt\n",
        "import pandas as pd # Importing the dataset \n",
        "\n",
        "from sklearn.cluster import KMeans\n",
        "cs = []\n",
        "for i in range(1, 11):\n",
        "    kmeans = KMeans(n_clusters = i, init = 'k-means++', max_iter = 300, n_init = 10, random_state = 0)\n",
        "    kmeans.fit(X)\n",
        "    cs.append(kmeans.inertia_)\n",
        "plt.plot(range(1, 11), cs)\n",
        "plt.title('The Elbow Method')\n",
        "plt.xlabel('Number of clusters')\n",
        "plt.ylabel('CS')\n",
        "plt.show()"
      ],
      "metadata": {
        "id": "vyuHSuF5iNEE"
      },
      "execution_count": null,
      "outputs": []
    }
  ]
}