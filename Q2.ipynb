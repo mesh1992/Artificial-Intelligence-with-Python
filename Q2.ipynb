{
  "nbformat": 4,
  "nbformat_minor": 0,
  "metadata": {
    "colab": {
      "name": "Q2.ipynb",
      "provenance": [],
      "authorship_tag": "ABX9TyNm0GqmbO0bwvYBjiFEZpQT",
      "include_colab_link": true
    },
    "kernelspec": {
      "name": "python3",
      "display_name": "Python 3"
    },
    "language_info": {
      "name": "python"
    }
  },
  "cells": [
    {
      "cell_type": "markdown",
      "metadata": {
        "id": "view-in-github",
        "colab_type": "text"
      },
      "source": [
        "<a href=\"https://colab.research.google.com/github/mesh1992/Artificial-Intelligence-with-Python/blob/master/Q2.ipynb\" target=\"_parent\"><img src=\"https://colab.research.google.com/assets/colab-badge.svg\" alt=\"Open In Colab\"/></a>"
      ]
    },
    {
      "cell_type": "code",
      "execution_count": null,
      "metadata": {
        "id": "cQoPQ0MxREcI"
      },
      "outputs": [],
      "source": [
        "import random\n",
        "# create the next generation\n",
        "children = list()\n",
        "for i in range(0, n_pop, 2)\n",
        "\tp1, p2 = selected[i], selected[i+1]\n",
        "\tfor c in crossover(p1, p2, r_cross):\n",
        "\t\tmutation(c, r_mut)\n",
        "\t\tchildren.append(c)\n",
        "  \n",
        "def Crossover(parent1,parent2,point):\n",
        "    p1,p2 = list(parent1),list(parent2) #convert str to list\n",
        "    for i in range(point,len(p1)):\n",
        "        p1[i],p2[i] = p2[i],p1[i]       #swap the genetic information\n",
        "    p1,p2 = ''.join(p1),''.join(p2)     #Convert list to str\n",
        "    return p1,p2\n",
        "parent1 = '1101111001'        #parents' Chromosomes\n",
        "parent2 = '1101111011'\n",
        "print('Parent1:',parent1)\n",
        "print('Parent2:',parent2)\n",
        "point = random.randint(1,len(parent1))  #Crossover point\n",
        "print('Crossover Point:',point)\n",
        "offspring1,offspring2 = Crossover(parent1,parent2,point)\n",
        "print('Offspring1:',offspring1)         #Offspring Chromosomes\n",
        "print('Offspring2:',offspring2)\n"
      ]
    }
  ]
}