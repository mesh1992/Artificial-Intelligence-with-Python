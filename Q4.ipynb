{
  "nbformat": 4,
  "nbformat_minor": 0,
  "metadata": {
    "colab": {
      "name": "Q4.ipynb",
      "provenance": [],
      "authorship_tag": "ABX9TyPh+7c6hYxVc+Tz5Kr5hpNC",
      "include_colab_link": true
    },
    "kernelspec": {
      "name": "python3",
      "display_name": "Python 3"
    },
    "language_info": {
      "name": "python"
    }
  },
  "cells": [
    {
      "cell_type": "markdown",
      "metadata": {
        "id": "view-in-github",
        "colab_type": "text"
      },
      "source": [
        "<a href=\"https://colab.research.google.com/github/mesh1992/Artificial-Intelligence-with-Python/blob/master/Q4.ipynb\" target=\"_parent\"><img src=\"https://colab.research.google.com/assets/colab-badge.svg\" alt=\"Open In Colab\"/></a>"
      ]
    },
    {
      "cell_type": "code",
      "execution_count": null,
      "metadata": {
        "id": "O8Bcc32815aj"
      },
      "outputs": [],
      "source": [
        "import numpy as np\n",
        "import cv2\n",
        "from matplotlib import pyplot as plt\n",
        "  \n",
        "X = np.random.randint(10,45,(25,2))\n",
        "Y = np.random.randint(55,70,(25,2))\n",
        "Z = np.vstack((X,Y))\n",
        "  \n",
        "# convert to np.float32\n",
        "Z = np.float32(Z)\n",
        "  \n",
        "# define criteria and apply kmeans()\n",
        "criteria = (cv2.TERM_CRITERIA_EPS + cv2.TERM_CRITERIA_MAX_ITER, 10, 1.0)\n",
        "ret,label,center = cv2.kmeans(Z,2,None,criteria,10,cv2.KMEANS_RANDOM_CENTERS)\n",
        "  \n",
        "# Now separate the data\n",
        "A = Z[label.ravel()==0]\n",
        "B = Z[label.ravel()==1]\n",
        "  \n",
        "# Plot the data\n",
        "plt.scatter(A[:,0],A[:,1])\n",
        "plt.scatter(B[:,0],B[:,1],c = 'r')\n",
        "plt.scatter(center[:,0],center[:,1],s = 80,c = 'y', marker = 's')\n",
        "plt.xlabel('Test Data'),plt.ylabel('Z samples')\n",
        "plt.show()"
      ]
    }
  ]
}