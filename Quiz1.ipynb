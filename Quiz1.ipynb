{
  "nbformat": 4,
  "nbformat_minor": 0,
  "metadata": {
    "colab": {
      "name": "Quiz1.ipynb",
      "provenance": [],
      "collapsed_sections": [],
      "authorship_tag": "ABX9TyOsf/LZLNL8nONEWxQMCAV/",
      "include_colab_link": true
    },
    "kernelspec": {
      "name": "python3",
      "display_name": "Python 3"
    },
    "language_info": {
      "name": "python"
    }
  },
  "cells": [
    {
      "cell_type": "markdown",
      "metadata": {
        "id": "view-in-github",
        "colab_type": "text"
      },
      "source": [
        "<a href=\"https://colab.research.google.com/github/mesh1992/Artificial-Intelligence-with-Python/blob/master/Quiz1.ipynb\" target=\"_parent\"><img src=\"https://colab.research.google.com/assets/colab-badge.svg\" alt=\"Open In Colab\"/></a>"
      ]
    },
    {
      "cell_type": "code",
      "source": [
        "#1\n",
        "\n",
        "import pandas as pd\n",
        "import matplotlib.pyplot as plt\n",
        "from matplotlib import style\n",
        "# Calling DataFrame constructor\n",
        "df = pd.DataFrame()\n",
        "\n",
        "print(df)\n",
        "\n",
        "\n",
        "\n",
        "me = {'Id': [12345,12346,12347,12348,12349,123450,123451,123452],\n",
        "         'name':['John','Mike','Jim','Peter','Jack','Andrew','Adam','Jeff','David','Kevin'],\n",
        "        'GPA': [3.5,3.45,2.95,3.12,2.65,3.01,3.70,2.89,3.34,3.82]}\n",
        "\n",
        " # Create DataFrame\n",
        "df = pd.DataFrame(me)\n",
        " \n",
        "# Print the output.\n",
        "print(df)"
      ],
      "metadata": {
        "id": "EMm22yRxTolL"
      },
      "execution_count": null,
      "outputs": []
    },
    {
      "cell_type": "code",
      "source": [
        "#2 Based on above dataframe, change record index to GPA\n",
        "# using \"columns\" attribute.\n",
        "# df.columns\n",
        "  \n",
        "# Change the row index\n",
        "df.index =['Id', 'GPA']\n",
        "  \n",
        "# Change the column names\n",
        "df.columns =['Col_1', 'Col_2','Col_3','Col_4','Col_5','Col_6','Col_7','Col_8','Col_9','Col_10']\n",
        "# printing the data frame\n",
        "df\n",
        "\n",
        "\n"
      ],
      "metadata": {
        "id": "Aei3YzB-WfZn"
      },
      "execution_count": null,
      "outputs": []
    },
    {
      "cell_type": "code",
      "source": [
        "#3 Generate time series from 7/1/2020 to 8/1/2020\n",
        "\n",
        "SELECT * from generate_series(\n",
        "\t'7/1/2020',\n",
        "    '8/1/2020')"
      ],
      "metadata": {
        "id": "9xlZ6bfmaTXv"
      },
      "execution_count": null,
      "outputs": []
    },
    {
      "cell_type": "code",
      "source": [
        "#4. Add one more column for student’s major BSCS or MSCS\n",
        "\n",
        "#import pandas as pd\n",
        "import pandas as pd\n",
        " \n",
        "# Calling DataFrame constructor\n",
        "df = pd.DataFrame()\n",
        "\n",
        "# dictionary of lists\n",
        "dict = {'ID':[\"12345\", \"12346\", \"12347\", \"12348\", \"12349\", \"12349\", \"12351\", \"12352\", \"12353\", \"12354\"],\n",
        "        'Name': [\"John\", \"Mike\", \"Jim\", \"Peter\", \"Jack\", \"Andrew\", \"Adam\", \"Jeff\", \"David\", \"David\"],\n",
        "        'GPA':[3.5, 3.45, 3.45, 3.12, 2.65, 3.01, 3.70, 2.89, 3.34, 3.82]}\n",
        "df = pd.DataFrame(dict)\n",
        "\n",
        " #Using 'Major' as the column name and equating it to the list\n",
        "df2 = df.assign(Magor=['BSCS', 'MSCS', 'BSCS', 'BSCS', 'MSCS', 'BSCS', 'MSCS', 'MSCS', 'BSCS', 'MSCS'])\n",
        "\n",
        "print(df2)"
      ],
      "metadata": {
        "id": "W0BFJLv5ZdNo"
      },
      "execution_count": null,
      "outputs": []
    }
  ]
}