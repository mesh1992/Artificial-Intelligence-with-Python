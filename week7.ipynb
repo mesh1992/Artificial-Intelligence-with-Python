{
  "nbformat": 4,
  "nbformat_minor": 0,
  "metadata": {
    "colab": {
      "name": "week7.ipynb",
      "provenance": [],
      "collapsed_sections": [],
      "authorship_tag": "ABX9TyMaurMJwBWzmId1QQ3bSpUt",
      "include_colab_link": true
    },
    "kernelspec": {
      "name": "python3",
      "display_name": "Python 3"
    },
    "language_info": {
      "name": "python"
    }
  },
  "cells": [
    {
      "cell_type": "markdown",
      "metadata": {
        "id": "view-in-github",
        "colab_type": "text"
      },
      "source": [
        "<a href=\"https://colab.research.google.com/github/mesh1992/Artificial-Intelligence-with-Python/blob/master/week7.ipynb\" target=\"_parent\"><img src=\"https://colab.research.google.com/assets/colab-badge.svg\" alt=\"Open In Colab\"/></a>"
      ]
    },
    {
      "cell_type": "code",
      "source": [
        "#1. nyc_weather\n",
        "from google.colab import drive\n",
        "drive.mount('/content/drive')         \n",
        "# mount '/content/drive' to virtual machine directory for google colab user\n",
        "#below where the file is in gdrive, change with your\n",
        "data_path = \"/content/drive/My Drive/Colab Notebooks/\"\n",
        "import nyc_weather.csv\n",
        "dogs_dict = { '1/5/2016,20,-3,41,30.57,10,5,0,0,,333'\n",
        "'1/6/2016,33,4,35,30.5,10,4,0,0,,259'\n",
        "'1/7/2016,39,11,33,30.28,10,2,0,3,,293' }\n",
        "filename = 'nyc_weather.csv'\n",
        "outfile = open(data_path+filename,'wb')         # b: binary\n",
        "nyc.weather.csv.dump(nyc_weather,outfile)                  \n",
        "outfile.close()                              # File \"nyc_weather\" will be created in your google drive\n",
        "infile = open(data_path+filename,'rb')\n",
        "new_dict = nyc_weather.csv.load(infile)\n",
        "infile.close()\n",
        "print(new_dict)\n",
        "print(new_dict==nyc_weather)\n",
        "print(type(nyc_weather))\n",
        "import bz2                                      \n",
        "sfile = bz2.BZ2File(data_path+'smallerfile', 'w')\n",
        "nyc_weather.csv.dump(nyc_weather, sfile) \n",
        "infile = open(data_path+filename,'rb')\n",
        "new_dict = nyc_weather.csv.load(infile, encoding='latin1')"
      ],
      "metadata": {
        "id": "DlPyMGm-QX4c"
      },
      "execution_count": null,
      "outputs": []
    },
    {
      "cell_type": "code",
      "source": [
        "_#2. Get dataset from website\n",
        "!pip install quandl\n",
        "import quandl \n",
        "import pandas as pd\n",
        "# Access to https://www.quandl.com/ \n",
        "# Create account and then you will get your own api key \n",
        "# DON'T USE MY API KEY \n",
        "api_key = '512wmNEnHco4U5xxKQ5X'\n",
        "df = quandl.get(\"FMAC/HPI_TX\", authtoken=api_key)\n",
        "print(df.head())"
      ],
      "metadata": {
        "id": "UWHK9qh9QcXv"
      },
      "execution_count": null,
      "outputs": []
    }
  ]
}